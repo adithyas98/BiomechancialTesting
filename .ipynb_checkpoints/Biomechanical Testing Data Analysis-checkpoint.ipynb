{
 "cells": [
  {
   "cell_type": "markdown",
   "metadata": {},
   "source": [
    "<center><h1> Biomechanical Testing Data Analysis</h1></center>\n",
    "This Jupyter notebook will house all of the data analysis for all the procedures for the Biomechanical Testing Laboratory. This lab is dependent on the StressStrain.py file as it contains all of the data analysis algorithms and also gives the benefit of storing data in a more organized fashion\n"
   ]
  },
  {
   "cell_type": "code",
   "execution_count": 4,
   "metadata": {},
   "outputs": [],
   "source": [
    "import pandas as pd\n",
    "import numpy as np\n",
    "import matplotlib.pyplot as plt\n",
    "%matplotlib inline\n",
    "from StressStrain import StressStrain as SS"
   ]
  },
  {
   "cell_type": "markdown",
   "metadata": {},
   "source": [
    "## Procedure 1 \n",
    "Here we will take a look at calculating the maximum stress, plotting a Stress Strain Plot, as well as finding the Young's modulus for all three specimen. The code for the Linear Regression can be found in StressStrain.py"
   ]
  },
  {
   "cell_type": "code",
   "execution_count": 48,
   "metadata": {},
   "outputs": [
    {
     "name": "stdout",
     "output_type": "stream",
     "text": [
      "The Average Young's Modulus is 517766966.1705959 with a standard deviation of 315589356.4883822\n"
     ]
    },
    {
     "data": {
      "text/html": [
       "<div>\n",
       "<style scoped>\n",
       "    .dataframe tbody tr th:only-of-type {\n",
       "        vertical-align: middle;\n",
       "    }\n",
       "\n",
       "    .dataframe tbody tr th {\n",
       "        vertical-align: top;\n",
       "    }\n",
       "\n",
       "    .dataframe thead th {\n",
       "        text-align: right;\n",
       "    }\n",
       "</style>\n",
       "<table border=\"1\" class=\"dataframe\">\n",
       "  <thead>\n",
       "    <tr style=\"text-align: right;\">\n",
       "      <th></th>\n",
       "      <th>Young's Modulus Error(Pa)</th>\n",
       "      <th>Young's Modulus(Pa)</th>\n",
       "    </tr>\n",
       "  </thead>\n",
       "  <tbody>\n",
       "    <tr>\n",
       "      <th>Brass 1</th>\n",
       "      <td>5.533929e+08</td>\n",
       "      <td>1.108140e+11</td>\n",
       "    </tr>\n",
       "    <tr>\n",
       "      <th>Brass 2</th>\n",
       "      <td>8.852371e+08</td>\n",
       "      <td>1.165520e+11</td>\n",
       "    </tr>\n",
       "    <tr>\n",
       "      <th>Brass 3</th>\n",
       "      <td>1.146709e+08</td>\n",
       "      <td>1.159726e+11</td>\n",
       "    </tr>\n",
       "  </tbody>\n",
       "</table>\n",
       "</div>"
      ],
      "text/plain": [
       "         Young's Modulus Error(Pa)  Young's Modulus(Pa)\n",
       "Brass 1               5.533929e+08         1.108140e+11\n",
       "Brass 2               8.852371e+08         1.165520e+11\n",
       "Brass 3               1.146709e+08         1.159726e+11"
      ]
     },
     "execution_count": 48,
     "metadata": {},
     "output_type": "execute_result"
    }
   ],
   "source": [
    "#Import the data\n",
    "procedure1=[]\n",
    "for i in [\"Brass1\",'Brass2','Brass3']:\n",
    "    #We want to iterate over the different sheets of which there are three\n",
    "    procedure1.append(SS(pd.read_csv('./Procedure1/Procedure1{}.csv'.format(i),nrows=10)))\n",
    "YoungsModulus=[]\n",
    "YoungError=[]\n",
    "intercepts=[]\n",
    "intercept_error=[]\n",
    "outputProcedure1=[]\n",
    "for x in procedure1:\n",
    "    o,youngsMod,b,youngError,b_error=x.youngsModulus()\n",
    "    outputProcedure1.append(o)\n",
    "    YoungError.append(youngError)\n",
    "    intercepts.append(b)\n",
    "    intercept_error.append(b_error)\n",
    "    YoungsModulus.append(youngsMod)\n",
    "#Now we can output our data\n",
    "P1Final=pd.DataFrame(data={\"Young's Modulus(Pa)\":YoungsModulus,\n",
    "                                   \"Young's Modulus Error(Pa)\":YoungError},index=[\"Brass 1\",'Brass 2','Brass 3'])\n",
    "\n",
    "P1Final.to_csv(\"./Output/Procedure1/Brass123YoungMod.csv\")\n",
    "\n",
    "averageP1=np.average(Procedure1Final[\"Young's Modulus Error(Pa)\"])\n",
    "stdevP1=np.std(Procedure1Final[\"Young's Modulus Error(Pa)\"])\n",
    "\n",
    "print(\"The Average Young's Modulus is {} with a standard deviation of {}\".format(averageP1,stdevP1))\n",
    "P1Final.head()"
   ]
  },
  {
   "cell_type": "markdown",
   "metadata": {},
   "source": [
    "To see how well this regression fits the model we can plot the sets of data for Brass 1 below"
   ]
  },
  {
   "cell_type": "code",
   "execution_count": 49,
   "metadata": {},
   "outputs": [
    {
     "data": {
      "image/png": "[encoded data removed]",
      "text/plain": [
       "<Figure size 432x288 with 1 Axes>"
      ]
     },
     "metadata": {
      "needs_background": "light"
     },
     "output_type": "display_data"
    }
   ],
   "source": [
    "plt.Figure(figsize=(7,8))\n",
    "plt.scatter(outputProcedure1[0]['Strain'],outputProcedure1[0]['Max Stress(Pa)'],label='Measured Data')\n",
    "plt.plot(outputProcedure1[0]['Strain'],YoungsModulus[0]*outputProcedure1[0]['Strain']+intercepts[0],\n",
    "         label='Linear Regression')\n",
    "plt.xlim((0,0.0030))\n",
    "plt.legend()\n",
    "plt.title(\"Young's Modulus for Brass 1\")\n",
    "plt.xlabel(\"Strain\")\n",
    "plt.ylabel(\"Stress(Pa)\")\n",
    "plt.savefig(\"./Output/Procedure1/Young's Modulus for Brass 1\")"
   ]
  },
  {
   "cell_type": "markdown",
   "metadata": {},
   "source": [
    "## Procedure 2: Destructive Bending Test\n",
    "In this we will be determining the Young's Modulus for a destructive bending test and comparing it to the Young's Modulus obtained before. However, this time we will have to deal with different types of data where we are given the Load and the Deflection of the Brass"
   ]
  },
  {
   "cell_type": "code",
   "execution_count": null,
   "metadata": {},
   "outputs": [],
   "source": [
    "#Import and process the Data"
   ]
  }
 ],
 "metadata": {
  "kernelspec": {
   "display_name": "Python 3",
   "language": "python",
   "name": "python3"
  },
  "language_info": {
   "codemirror_mode": {
    "name": "ipython",
    "version": 3
   },
   "file_extension": ".py",
   "mimetype": "text/x-python",
   "name": "python",
   "nbconvert_exporter": "python",
   "pygments_lexer": "ipython3",
   "version": "3.6.4"
  },
  "latex_envs": {
   "LaTeX_envs_menu_present": true,
   "autoclose": true,
   "autocomplete": true,
   "bibliofile": "biblio.bib",
   "cite_by": "apalike",
   "current_citInitial": 1,
   "eqLabelWithNumbers": true,
   "eqNumInitial": 1,
   "hotkeys": {
    "equation": "Ctrl-E",
    "itemize": "Ctrl-I"
   },
   "labels_anchors": false,
   "latex_user_defs": false,
   "report_style_numbering": false,
   "user_envs_cfg": false
  }
 },
 "nbformat": 4,
 "nbformat_minor": 2
}
